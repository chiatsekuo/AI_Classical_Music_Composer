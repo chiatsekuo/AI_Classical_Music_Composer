{
 "cells": [
  {
   "cell_type": "markdown",
   "metadata": {},
   "source": [
    "# FID"
   ]
  },
  {
   "cell_type": "code",
   "execution_count": 1,
   "metadata": {},
   "outputs": [],
   "source": [
    "import numpy as np\n",
    "from numpy import cov\n",
    "from numpy import trace\n",
    "from numpy import iscomplexobj\n",
    "from numpy.random import random\n",
    "from scipy.linalg import sqrtm"
   ]
  },
  {
   "cell_type": "code",
   "execution_count": 2,
   "metadata": {},
   "outputs": [],
   "source": [
    "# calculate frechet inception distance\n",
    "# notice that at least one of real or generated needs to have a shape greater than or equal to (2,x)\n",
    "def calculate_fid(real, generated):\n",
    "\t# calculate mean and covariance statistics\n",
    "\tmu1, sigma1 = real.mean(axis=0), cov(real, rowvar=False)\n",
    "\tmu2, sigma2 = generated.mean(axis=0), cov(generated, rowvar=False)\n",
    "\t# calculate sum squared difference between means\n",
    "\tssdiff = np.sum((mu1 - mu2)**2.0)\n",
    "\t# calculate sqrt of product between cov\n",
    "\tcovmean = sqrtm(sigma1.dot(sigma2))\n",
    "\t# check and correct imaginary numbers from sqrt\n",
    "\tif iscomplexobj(covmean):\n",
    "\t\tcovmean = covmean.real\n",
    "\t# calculate score\n",
    "\tfid = ssdiff + trace(sigma1 + sigma2 - 2.0 * covmean)\n",
    "\treturn fid"
   ]
  },
  {
   "cell_type": "markdown",
   "metadata": {},
   "source": [
    "# read in training"
   ]
  },
  {
   "cell_type": "code",
   "execution_count": 3,
   "metadata": {},
   "outputs": [],
   "source": [
    "import pickle"
   ]
  },
  {
   "cell_type": "code",
   "execution_count": 4,
   "metadata": {},
   "outputs": [
    {
     "name": "stdout",
     "output_type": "stream",
     "text": [
      "original train shape: (207, 1000, 84)\n",
      "modified train shape: (207, 200, 48)\n",
      "reshaped train shape: (207, 9600)\n"
     ]
    }
   ],
   "source": [
    "train = []\n",
    "file = open('../notes/modernist_notes.pickle', 'rb')\n",
    "train = pickle.load(file)\n",
    "file.close()\n",
    "train = np.array(train)\n",
    "print('original train shape:', train.shape)\n",
    "\n",
    "train = train[:, 400:600, 12:60]\n",
    "print('modified train shape:', train.shape)\n",
    "\n",
    "train = train.reshape((207, 200*48))\n",
    "print('reshaped train shape:', train.shape)\n"
   ]
  },
  {
   "cell_type": "markdown",
   "metadata": {},
   "source": [
    "# read in result"
   ]
  },
  {
   "cell_type": "code",
   "execution_count": 5,
   "metadata": {},
   "outputs": [
    {
     "name": "stdout",
     "output_type": "stream",
     "text": [
      "(402, 8, 1000, 84, 1)\n",
      "(200, 48)\n",
      "(1, 9600)\n"
     ]
    }
   ],
   "source": [
    "result = []\n",
    "file = open('./results/result_modernist', 'rb')\n",
    "result = pickle.load(file)\n",
    "file.close()\n",
    "result = np.array(result)\n",
    "print(result.shape)\n",
    "\n",
    "lastPiece = result[-1][0][400:600,12:60,0]\n",
    "print(lastPiece.shape)\n",
    "lastPiece = lastPiece.reshape((1, 200*48))\n",
    "print(lastPiece.shape)"
   ]
  },
  {
   "cell_type": "markdown",
   "metadata": {},
   "source": [
    "# calculate FID"
   ]
  },
  {
   "cell_type": "code",
   "execution_count": 6,
   "metadata": {},
   "outputs": [],
   "source": [
    "random1 = random(1*9600)\n",
    "random1 = random1.reshape((1*9600))\n",
    "# act2 = random(1*100*48)\n",
    "# act2 = act2.reshape((1,100*48))"
   ]
  },
  {
   "cell_type": "code",
   "execution_count": 7,
   "metadata": {},
   "outputs": [
    {
     "name": "stdout",
     "output_type": "stream",
     "text": [
      "FID (same): -0.002\n",
      "FID (different): 5939.203\n"
     ]
    }
   ],
   "source": [
    "# fid between act1 and act1\n",
    "fid = calculate_fid(train, train)\n",
    "print('FID (same): %.3f' % fid)\n",
    "# fid between act1 and act2\n",
    "fid = calculate_fid(train, lastPiece)\n",
    "print('FID (different): %.3f' % fid)"
   ]
  },
  {
   "cell_type": "code",
   "execution_count": 8,
   "metadata": {},
   "outputs": [
    {
     "name": "stdout",
     "output_type": "stream",
     "text": [
      "FID (different): 20610.990\n"
     ]
    }
   ],
   "source": [
    "fid_rand = calculate_fid(train, random1)\n",
    "print('FID (different): %.3f' % fid_rand)"
   ]
  }
 ],
 "metadata": {
  "kernelspec": {
   "display_name": "Python 3",
   "language": "python",
   "name": "python3"
  },
  "language_info": {
   "codemirror_mode": {
    "name": "ipython",
    "version": 3
   },
   "file_extension": ".py",
   "mimetype": "text/x-python",
   "name": "python",
   "nbconvert_exporter": "python",
   "pygments_lexer": "ipython3",
   "version": "3.8.3"
  }
 },
 "nbformat": 4,
 "nbformat_minor": 4
}
